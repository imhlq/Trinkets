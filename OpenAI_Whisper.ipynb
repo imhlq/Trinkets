{
  "cells": [
    {
      "cell_type": "markdown",
      "metadata": {
        "id": "view-in-github",
        "colab_type": "text"
      },
      "source": [
        "<a href=\"https://colab.research.google.com/github/imhlq/Trinkets/blob/master/OpenAI_Whisper.ipynb\" target=\"_parent\"><img src=\"https://colab.research.google.com/assets/colab-badge.svg\" alt=\"Open In Colab\"/></a>"
      ]
    },
    {
      "cell_type": "markdown",
      "source": [
        "# Web App Demonstrating OpenAI's Whisper Speech Recognition Model\n",
        "\n",
        "This is a Colab notebook that allows you to record or upload audio files to [OpenAI's free Whisper speech recognition model](https://openai.com/blog/whisper/). This was based on [an original notebook by @amrrs](https://github.com/amrrs/openai-whisper-webapp)"
      ],
      "metadata": {
        "id": "Lbja1jB3vDOT"
      }
    },
    {
      "cell_type": "code",
      "execution_count": null,
      "metadata": {
        "id": "ZsJUxc0aRsAf"
      },
      "outputs": [],
      "source": [
        "#@markdown Keep blank for upload\n",
        "file_path = \"2023-04-24 12-03-42.m4a\"  #@param {type:\"string\"}\n",
        "model = \"base\" #@param [\"tiny\", \"base\", \"small\", \"medium\", \"large\"]\n",
        "\n",
        "all_models = [\"tiny\", \"base\", \"small\", \"medium\", \"large\"]\n",
        "import os\n",
        "\n",
        "if not os.path.isfile(file_path):\n",
        "    print(\"File Not Found\", file_path)\n",
        "    file_path = \"\"\n",
        "\n",
        "if file_path == \"\":\n",
        "    from google.colab import files\n",
        "    print(\"Please upload audio file here:\")\n",
        "    upload_file = files.upload()\n",
        "    file_path = list(upload_file.keys())[0]\n",
        "\n",
        "! pip install git+https://github.com/openai/whisper.git -q\n",
        "import whisper\n",
        "import time\n",
        "\n",
        "# Time cost\n",
        "audio_length = ! ffprobe -i \"{file_path}\" -show_entries format=duration -v quiet -of csv=\"p=0\"\n",
        "audio_length = float(audio_length[0])\n",
        "audio_parts_num = audio_length // 30 + 1\n",
        "relative_speedi = 2**(all_models.index(model) + 1)\n",
        "estimate_time = audio_parts_num * relative_speedi * 0.368 / 60\n",
        "\n",
        "model = whisper.load_model(model)\n",
        "time_start = time.time()\n",
        "print(f\"Start transcribe...\")\n",
        "print(f\"Total length: {audio_length // 60} mins, EST: {estimate_time} mins\")\n",
        "hard_text = model.transcribe(file_path)[\"text\"]\n",
        "time_end = time.time()\n",
        "elapsed_time = time_end - time_start\n",
        "print(f\"Time elapsed: {elapsed_time:.3f} seconds\")\n",
        "\n",
        "with open(file_path + '_trans.txt', 'w') as fp:\n",
        "    fp.write(hard_text)\n",
        "print(hard_text[:100], '...')"
      ]
    },
    {
      "cell_type": "code",
      "source": [],
      "metadata": {
        "id": "0pk-3ZimiUIY"
      },
      "execution_count": null,
      "outputs": []
    }
  ],
  "metadata": {
    "accelerator": "GPU",
    "colab": {
      "provenance": [],
      "private_outputs": true,
      "gpuType": "T4",
      "include_colab_link": true
    },
    "gpuClass": "standard",
    "kernelspec": {
      "display_name": "Python 3 (ipykernel)",
      "language": "python",
      "name": "python3"
    },
    "language_info": {
      "codemirror_mode": {
        "name": "ipython",
        "version": 3
      },
      "file_extension": ".py",
      "mimetype": "text/x-python",
      "name": "python",
      "nbconvert_exporter": "python",
      "pygments_lexer": "ipython3",
      "version": "3.9.9"
    }
  },
  "nbformat": 4,
  "nbformat_minor": 0
}